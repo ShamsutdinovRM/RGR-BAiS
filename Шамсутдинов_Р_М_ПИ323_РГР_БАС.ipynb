{
  "nbformat": 4,
  "nbformat_minor": 0,
  "metadata": {
    "colab": {
      "name": "Шамсутдинов Р. М. ПИ323 РГР-БАС.ipynb",
      "provenance": [],
      "collapsed_sections": []
    },
    "kernelspec": {
      "name": "python3",
      "display_name": "Python 3"
    },
    "language_info": {
      "name": "python"
    }
  },
  "cells": [
    {
      "cell_type": "markdown",
      "source": [
        "# **Греческий алфавит**\n",
        "| Заглавная | Строчная | Название |\n",
        "| --- | --- | --- |\n",
        "A | $α$ | альфа\n",
        "B | $β$ | бета\n",
        "Γ | $γ$ | гамма\n",
        "Δ | $δ$ | дельта\n",
        "Ε | $ϵ$ | эпсилон\n",
        "Ζ | $ζ$ | дзета\n",
        "Η | $η$ | эта\n",
        "Θ | $θ$ | тета\n",
        "Ι | $ι$ | йота\n",
        "Κ | $κ$ | каппа\n",
        "Λ | $λ$ | лямбда\n",
        "Μ | $μ$ | мю\n",
        "Ν | $ν$ | ню\n",
        "Ξ | $ξ$ | кси\n",
        "Ο | $ο$ | омикрон\n",
        "Π | $π$ | пи\n",
        "Ρ | $ρ$ | ро\n",
        "Σ | $σ$ | сигма\n",
        "Τ | $τ$ | тау\n",
        "Υ | $υ$ | ипсилон\n",
        "Φ | $ϕ$ | фи\n",
        "Χ | $χ$ | хи\n",
        "Ψ | $ψ$ | пси\n",
        "Ω | $ω$ | омега"
      ],
      "metadata": {
        "id": "tVCVSKRcWp_z"
      }
    },
    {
      "cell_type": "markdown",
      "source": [
        "# **Формула нормального распределения:**\n",
        "$${\\displaystyle f(x)={\\frac{1}{\\sigma {\\sqrt{2\\pi}}}e^{-{\\frac{1}{2}}\\left({\\frac{(x-\\mu) }{\\sigma }}\\right)^{2}}}}$$"
      ],
      "metadata": {
        "id": "TcN48NmaHjJT"
      }
    }
  ]
}